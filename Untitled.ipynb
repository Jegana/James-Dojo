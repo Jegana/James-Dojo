{
 "cells": [
  {
   "cell_type": "markdown",
   "metadata": {},
   "source": [
    "Basic Syntax and Python Lesson:"
   ]
  },
  {
   "cell_type": "code",
   "execution_count": 1,
   "metadata": {
    "collapsed": false
   },
   "outputs": [
    {
     "name": "stdout",
     "output_type": "stream",
     "text": [
      "1\n"
     ]
    }
   ],
   "source": [
    "anInt = 1\n",
    "aFloat = 3.141592\n",
    "aString = \"foo\"\n",
    "aList = [1,2]\n",
    "aSet = ([3,4])\n",
    "aBoolean = True\n",
    "aDict = {\"hello\":\"world\"}\n",
    "print(anInt)"
   ]
  },
  {
   "cell_type": "markdown",
   "metadata": {},
   "source": [
    "Defined Primitive types in a weakly typed language. All langauges have primitive types which are uniquely defined within that language and which are native to that language. They are usually immutable. Any operation which acts on a primitive type will usually overrite any memory storing that primitive type with the new primitive type.\n",
    "\n",
    "Primitive Types when created allocate memory to that data structure.\n",
    "\n",
    "Python is a high level programming language. It is not a compiled language like C. C must declare how to allocate memory from the beginning and has no inferences because everything is explcitly defined.\n",
    "\n",
    "In python aDict is a very powerful primitive"
   ]
  },
  {
   "cell_type": "code",
   "execution_count": 2,
   "metadata": {
    "collapsed": false
   },
   "outputs": [
    {
     "data": {
      "text/plain": [
       "5.0"
      ]
     },
     "execution_count": 2,
     "metadata": {},
     "output_type": "execute_result"
    }
   ],
   "source": [
    "from math import sqrt\n",
    "#this is bringing in a standard built-in python library. In this case, it's \"math\"\n",
    "\n",
    "a = 3\n",
    "b = 4\n",
    "sqrt((a*a)+(b*b))"
   ]
  },
  {
   "cell_type": "markdown",
   "metadata": {},
   "source": [
    "This is solving a basic pythagorean theorem. There are multiple ways to solve this. sqrt(a**2+b**2) print(c) would accomplish the same thing."
   ]
  },
  {
   "cell_type": "code",
   "execution_count": 3,
   "metadata": {
    "collapsed": false
   },
   "outputs": [
    {
     "name": "stdout",
     "output_type": "stream",
     "text": [
      "yes\n",
      "foo\n"
     ]
    }
   ],
   "source": [
    "if (1>0):\n",
    "    print(\"yes\")\n",
    "if (1<0):\n",
    "    print(\"no\")\n",
    "else:\n",
    "    print(\"foo\")"
   ]
  },
  {
   "cell_type": "markdown",
   "metadata": {},
   "source": [
    "Rock, Paper, Scissors (NO FUNCTIONS!)\n",
    "\n",
    "=> list of valid moves\n",
    "=> decision statements (what valid move beats/loses to what)\n",
    "=> user input (user move)\n",
    "=> random number generator\n",
    "=> display results"
   ]
  },
  {
   "cell_type": "code",
   "execution_count": null,
   "metadata": {
    "collapsed": false
   },
   "outputs": [
    {
     "name": "stdout",
     "output_type": "stream",
     "text": [
      "rock\n",
      "rock\n",
      "You tie, try again!\n"
     ]
    }
   ],
   "source": [
    "user_move = input()\n",
    "valid_moves = [\"rock\",\"paper\",\"scissors\"]\n",
    "while user_move not in valid_moves:\n",
    "    print(\"please enter rock, paper, or scissors\")\n",
    "    user_move = input()\n",
    "from random import randint\n",
    "computer_move = valid_moves[randint(0,2)]\n",
    "print(computer_move)\n",
    "    \n",
    "if (user_move == \"rock\") and (computer_move == \"paper\"):\n",
    "    print(\"You lose\")\n",
    "elif (user_move == \"rock\") and (computer_move == \"scissors\"):\n",
    "    print(\"You win\")\n",
    "elif (user_move == \"rock\") and (computer_move == \"rock\"):\n",
    "    print(\"You tie, try again!\")\n",
    "    user_move = input()\n",
    "elif (user_move == \"paper\") and (computer_move == \"scissors\"):\n",
    "    print(\"You lose\")\n",
    "elif (user_move == \"paper\") and (computer_move == \"rock\"):\n",
    "    print(\"You win\")\n",
    "elif (user_move == \"paper\") and (computer_move == \"paper\"):\n",
    "    print(\"You tie, try again!\")\n",
    "    user_move = input()\n",
    "elif (user_move == \"scissors\") and (computer_move == \"rock\"):\n",
    "    print(\"You lose\")\n",
    "elif (user_move == \"scissors\") and (computer_move == \"paper\"):\n",
    "    print(\"You win\")\n",
    "elif (user_move == \"scissors\") and (computer_move == \"scissors\"):\n",
    "    print(\"You tie, try again!\")\n",
    "    user_move = input()"
   ]
  },
  {
   "cell_type": "code",
   "execution_count": null,
   "metadata": {
    "collapsed": true
   },
   "outputs": [],
   "source": []
  }
 ],
 "metadata": {
  "kernelspec": {
   "display_name": "Python 3",
   "language": "python",
   "name": "python3"
  },
  "language_info": {
   "codemirror_mode": {
    "name": "ipython",
    "version": 3
   },
   "file_extension": ".py",
   "mimetype": "text/x-python",
   "name": "python",
   "nbconvert_exporter": "python",
   "pygments_lexer": "ipython3",
   "version": "3.5.1"
  }
 },
 "nbformat": 4,
 "nbformat_minor": 0
}
